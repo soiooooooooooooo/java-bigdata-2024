{
 "cells": [
  {
   "cell_type": "markdown",
   "metadata": {},
   "source": [
    "## 지도 표시하기\n",
    "\n",
    "- Folium 라이브러리\n",
    "    - Javascript로 만들어진 leaflet.js 라이브러리를 Python에 쓸 수 있도록 변환(wrangling)한 것\n",
    "    - https://leafletjs.com/ 참조\n",
    "    - https://python-visualization.github.io/folium/latest/ 항상 참조(버전 바뀔 때 함수, 옵션 등이 계속 바뀜)\n",
    "\n",
    "- Folium 설치\n",
    " ```shell\n",
    " > pip install folium\n",
    " ```\n",
    " - 노트북에서 실행시는 pip앞에 !추가\n"
   ]
  },
  {
   "cell_type": "code",
   "execution_count": 1,
   "metadata": {},
   "outputs": [
    {
     "name": "stdout",
     "output_type": "stream",
     "text": [
      "Collecting folium\n",
      "  Downloading folium-0.16.0-py2.py3-none-any.whl.metadata (3.6 kB)\n",
      "Collecting branca>=0.6.0 (from folium)\n",
      "  Downloading branca-0.7.1-py3-none-any.whl.metadata (1.5 kB)\n",
      "Requirement already satisfied: jinja2>=2.9 in c:\\dev\\python312\\lib\\site-packages (from folium) (3.1.3)\n",
      "Requirement already satisfied: numpy in c:\\dev\\python312\\lib\\site-packages (from folium) (1.26.4)\n",
      "Requirement already satisfied: requests in c:\\dev\\python312\\lib\\site-packages (from folium) (2.31.0)\n",
      "Collecting xyzservices (from folium)\n",
      "  Downloading xyzservices-2023.10.1-py3-none-any.whl.metadata (4.0 kB)\n",
      "Requirement already satisfied: MarkupSafe>=2.0 in c:\\dev\\python312\\lib\\site-packages (from jinja2>=2.9->folium) (2.1.5)\n",
      "Requirement already satisfied: charset-normalizer<4,>=2 in c:\\dev\\python312\\lib\\site-packages (from requests->folium) (3.3.2)\n",
      "Requirement already satisfied: idna<4,>=2.5 in c:\\dev\\python312\\lib\\site-packages (from requests->folium) (2.10)\n",
      "Requirement already satisfied: urllib3<3,>=1.21.1 in c:\\dev\\python312\\lib\\site-packages (from requests->folium) (2.2.1)\n",
      "Requirement already satisfied: certifi>=2017.4.17 in c:\\dev\\python312\\lib\\site-packages (from requests->folium) (2024.2.2)\n",
      "Downloading folium-0.16.0-py2.py3-none-any.whl (100 kB)\n",
      "   ---------------------------------------- 0.0/100.0 kB ? eta -:--:--\n",
      "   ----------- --------------------------- 30.7/100.0 kB 660.6 kB/s eta 0:00:01\n",
      "   ---------------------------------------- 100.0/100.0 kB 1.4 MB/s eta 0:00:00\n",
      "Downloading branca-0.7.1-py3-none-any.whl (25 kB)\n",
      "Downloading xyzservices-2023.10.1-py3-none-any.whl (56 kB)\n",
      "   ---------------------------------------- 0.0/56.3 kB ? eta -:--:--\n",
      "   ---------------------------------------- 56.3/56.3 kB 2.9 MB/s eta 0:00:00\n",
      "Installing collected packages: xyzservices, branca, folium\n",
      "Successfully installed branca-0.7.1 folium-0.16.0 xyzservices-2023.10.1\n"
     ]
    }
   ],
   "source": [
    "! pip install folium"
   ]
  },
  {
   "cell_type": "markdown",
   "metadata": {},
   "source": [
    "- Folium 모듈 추가\n",
    "```python\n",
    "import folium\n",
    "```"
   ]
  },
  {
   "cell_type": "code",
   "execution_count": 2,
   "metadata": {},
   "outputs": [],
   "source": [
    "import folium\n"
   ]
  },
  {
   "cell_type": "code",
   "execution_count": null,
   "metadata": {},
   "outputs": [],
   "source": [
    "# 지도 표시, 지도 확인 때는 구글맵 참조\n",
    "#https://map.google.com\n",
    "map = folium.Map(location=())"
   ]
  }
 ],
 "metadata": {
  "kernelspec": {
   "display_name": "Python 3",
   "language": "python",
   "name": "python3"
  },
  "language_info": {
   "codemirror_mode": {
    "name": "ipython",
    "version": 3
   },
   "file_extension": ".py",
   "mimetype": "text/x-python",
   "name": "python",
   "nbconvert_exporter": "python",
   "pygments_lexer": "ipython3",
   "version": "3.12.2"
  }
 },
 "nbformat": 4,
 "nbformat_minor": 2
}
