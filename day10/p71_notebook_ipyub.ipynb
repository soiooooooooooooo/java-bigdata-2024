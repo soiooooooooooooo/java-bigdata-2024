{
 "cells": [
  {
   "cell_type": "markdown",
   "metadata": {},
   "source": [
    "## 주피터 노트북 시작\n",
    "\n",
    "-주피터 노트북 사용법 학습\n",
    "\n",
    "    1. VS Code > Ctrl+Shift+P(명령 팔레트) > Create : 새 Jupyter Notebook 선택\n",
    "    2. 반드시 최초 저장\n",
    "    3. 마크다운 셀, 코드 셀 확인\n",
    "    4. 노트북을 새로 열면 *모두 실행* 눌러서 전체 코드셀 다 실행할 것\n",
    "    "
   ]
  },
  {
   "cell_type": "code",
   "execution_count": null,
   "metadata": {},
   "outputs": [
    {
     "name": "stdout",
     "output_type": "stream",
     "text": [
      "Hello, JupyterNotebook!!\n"
     ]
    }
   ],
   "source": [
    "print('Hello, JupyterNotebook!!')"
   ]
  },
  {
   "cell_type": "markdown",
   "metadata": {},
   "source": [
    "## 주피터 노트북 단축키\n",
    "\n",
    "- 필수 단축키\n",
    "    - Ctrl + Enter : (셀 내부) 마크다운 셀은 닫기, 코드 셀은 실행\n",
    "    - Shift + Enter : (셀 내부) Ctrl + Enter 기능 + 현재와 같은 셀을 추가( 단, 마지막 셀에서만 동작)\n",
    "    - b : (아무것도 선택 안 한 상태에서, 현재 셀 위치) 뒤쪽에 코드 셀 추가\n",
    "    - a : (현재 셀 위치) 앞쪽에 코드 셀 추가\n",
    "    - Shift + L : (셀 밖에서)라인넘버 토글\n",
    "    - Ctrl + / : (셀 내부) 주석 토글\n",
    "\n",
    "- 옵션 단축키\n",
    "    - b : (현재 셀 외부 위치) 뒤쪽에 코드 셀 추가\n",
    "    - m : (셀 외부 위치) 코드셀을 마크다운셀로 변경\n",
    "    - y : (셀 외부 위치) 마크다운셀을 코드셀로 변경\n",
    "\n",
    "## 디버깅\n",
    "\n",
    "- 디버깅 하는 방법은 .py와 동일\n",
    "    - 디버그 실행시 Ctrl + Shift + Alt + Enter(플레이버튼 옆 디버그 셀 클릭)"
   ]
  },
  {
   "cell_type": "code",
   "execution_count": 6,
   "metadata": {},
   "outputs": [],
   "source": [
    "# 디버깅 후 코드셀을 재실행!!\n",
    "def add(x,y):\n",
    "    res = int(x) + int(y)\n",
    "    return res"
   ]
  },
  {
   "cell_type": "code",
   "execution_count": 7,
   "metadata": {},
   "outputs": [
    {
     "ename": "ValueError",
     "evalue": "not enough values to unpack (expected 2, got 1)",
     "output_type": "error",
     "traceback": [
      "\u001b[1;31m---------------------------------------------------------------------------\u001b[0m",
      "\u001b[1;31mValueError\u001b[0m                                Traceback (most recent call last)",
      "Cell \u001b[1;32mIn[7], line 1\u001b[0m\n\u001b[1;32m----> 1\u001b[0m a,b \u001b[38;5;241m=\u001b[39m \u001b[38;5;28minput\u001b[39m(\u001b[38;5;124m'\u001b[39m\u001b[38;5;124m 두 수를 입력(정수)\u001b[39m\u001b[38;5;124m'\u001b[39m)\u001b[38;5;241m.\u001b[39msplit(\u001b[38;5;124m'\u001b[39m\u001b[38;5;124m \u001b[39m\u001b[38;5;124m'\u001b[39m)\n\u001b[0;32m      2\u001b[0m result \u001b[38;5;241m=\u001b[39m add(a,b)\n\u001b[0;32m      3\u001b[0m \u001b[38;5;28mprint\u001b[39m(\u001b[38;5;124mf\u001b[39m\u001b[38;5;124m'\u001b[39m\u001b[38;5;124m더하기 결과는 \u001b[39m\u001b[38;5;132;01m{\u001b[39;00mresult\u001b[38;5;132;01m}\u001b[39;00m\u001b[38;5;124m 입니다.\u001b[39m\u001b[38;5;124m'\u001b[39m)\n",
      "\u001b[1;31mValueError\u001b[0m: not enough values to unpack (expected 2, got 1)"
     ]
    }
   ],
   "source": [
    "a,b = input(' 두 수를 입력(정수)').split(' ')\n",
    "result = add(a,b)\n",
    "print(f'더하기 결과는 {result} 입니다.')"
   ]
  }
 ],
 "metadata": {
  "kernelspec": {
   "display_name": "Python 3",
   "language": "python",
   "name": "python3"
  },
  "language_info": {
   "codemirror_mode": {
    "name": "ipython",
    "version": 3
   },
   "file_extension": ".py",
   "mimetype": "text/x-python",
   "name": "python",
   "nbconvert_exporter": "python",
   "pygments_lexer": "ipython3",
   "version": "3.12.2"
  }
 },
 "nbformat": 4,
 "nbformat_minor": 2
}
