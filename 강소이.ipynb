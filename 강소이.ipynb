{
 "cells": [
  {
   "cell_type": "markdown",
   "metadata": {},
   "source": [
    "## 1번 문제"
   ]
  },
  {
   "cell_type": "code",
   "execution_count": null,
   "metadata": {},
   "outputs": [],
   "source": [
    "# 1. 입력한 주민번호를 통해 남성과 여성을 구분할 수 있는 프로그램을 작성하세요.(1,3,5는 남성. 2,4,6은 여성입니다)\n",
    "x = input('주민번호를 입력하세요(xxxxxx-xxxxxxx)')\n",
    "y = x[7]\n",
    "if  y == '4' or y == '2' or y == '6' :\n",
    "    print(\"여성입니다\")\n",
    "elif y == '1' or y == '3' or y == '5':\n",
    "    print(\"남성입니다\")\n",
    "else : print('주민번호를 다시 입력하세요')"
   ]
  },
  {
   "cell_type": "markdown",
   "metadata": {},
   "source": [
    "## 2번 문제"
   ]
  },
  {
   "cell_type": "code",
   "execution_count": null,
   "metadata": {},
   "outputs": [],
   "source": [
    "# 2. 일주일의 영어명은 'MON', 'TUE', 'WED', 'TUR', 'FRI', 'SAT', 'SUN' 입니다. 이를 입력하면, '오늘은 월요일~일요일 입니다'라는 메시지가 출력되는 프로그램을 작성하세요.\n",
    "def day(day):\n",
    "    days = {\n",
    "        'MON': '월요일',\n",
    "        'TUE': '화요일',\n",
    "        'WED': '수요일',\n",
    "        'THU': '목요일',\n",
    "        'FRI': '금요일',\n",
    "        'SAT': '토요일',\n",
    "        'SUN': '일요일'\n",
    "    }\n",
    "    return days.get(day, '올바른 요일을 입력하세요.')\n",
    "\n",
    "def main():\n",
    "    input_day = input(\"영어 요일을 입력하세요: \").upper()\n",
    "    print(f\"오늘은 {day(input_day)}입니다.\")\n",
    "if __name__ == \"__main__\":\n",
    "    main()"
   ]
  },
  {
   "cell_type": "markdown",
   "metadata": {},
   "source": [
    "## 3번 문제"
   ]
  },
  {
   "cell_type": "code",
   "execution_count": null,
   "metadata": {},
   "outputs": [],
   "source": [
    "# 3. 나이를 입력하면 19세 미만일 경우 입자을 못하게 하는 클럽 입장 프로그램을 작성하세요.\n",
    "# 예) 나이 입력\n",
    "# 17 -> '애들은 가라'\n",
    "# 24 -> '어서옵쇼, 손님!!'\n",
    "\n",
    "age = int(input('나이 입력'))\n",
    "if age < 19 :\n",
    "    print('애들은 가라')\n",
    "else :\n",
    "    print( '어서옵쇼, 손님!!')"
   ]
  },
  {
   "cell_type": "markdown",
   "metadata": {},
   "source": [
    "## 4번 문제"
   ]
  },
  {
   "cell_type": "code",
   "execution_count": null,
   "metadata": {},
   "outputs": [],
   "source": [
    "# 4. while 문을 사용, 1부터 1000 까지 에서 3과 5의 배수를 모두 구한뒤, result.txt에 저장하는 프로그램을 작성하세요.\n",
    "f = open(\"C:\\\\result.txt\", mode='w', encoding='utf-8')\n",
    "num = 1\n",
    "\n",
    "while num < 1000 :\n",
    "    num = 1\n",
    "    while num <= 1000:\n",
    "        if num % 3 == 0 or num % 5 == 0:\n",
    "            print(num, file=f)\n",
    "        num += 1\n",
    "\n",
    "f.close()\n"
   ]
  },
  {
   "cell_type": "markdown",
   "metadata": {},
   "source": [
    "## 5번 문제"
   ]
  },
  {
   "cell_type": "code",
   "execution_count": null,
   "metadata": {},
   "outputs": [],
   "source": [
    "# 5. datetime 모듈을 사용, 지금 현재의 날짜와 시간을 아래와 같은 형식으로 출력하는 프로그램을 작성하세요.\n",
    "# 예) 2024\\03%06 16**25//32\n",
    "\n",
    "import datetime as dt\n",
    "\n",
    "now = dt.datetime.now()\n",
    "print(f'{now.year}\\\\{now.month:02d}%{now.day:02d} {now.hour:02d}**{now.minute:02d}//{now.second:02d}')"
   ]
  }
 ],
 "metadata": {
  "kernelspec": {
   "display_name": "Python 3",
   "language": "python",
   "name": "python3"
  },
  "language_info": {
   "name": "python",
   "version": "3.12.2"
  }
 },
 "nbformat": 4,
 "nbformat_minor": 2
}
